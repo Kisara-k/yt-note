{
 "cells": [
  {
   "cell_type": "markdown",
   "id": "e93ff6a4",
   "metadata": {},
   "source": [
    "# YouTube Data API v3 - Get Video Data\n",
    "\n",
    "This notebook demonstrates how to use the YouTube Data API v3 to fetch video information including:\n",
    "- Video title\n",
    "- Description\n",
    "- Channel information\n",
    "- Statistics (views, likes, comments)\n",
    "- Video metadata\n",
    "\n",
    "## Prerequisites\n",
    "1. Get a YouTube API key from [Google Cloud Console](https://console.cloud.google.com/)\n",
    "2. Install required packages: `google-api-python-client`"
   ]
  },
  {
   "cell_type": "markdown",
   "id": "b6527c82",
   "metadata": {},
   "source": [
    "## 1. Install Required Packages"
   ]
  },
  {
   "cell_type": "code",
   "execution_count": null,
   "id": "2c97ec90",
   "metadata": {},
   "outputs": [],
   "source": [
    "# Install the required packages\n",
    "!pip install google-api-python-client python-dotenv"
   ]
  },
  {
   "cell_type": "markdown",
   "id": "737493c7",
   "metadata": {},
   "source": [
    "## 2. Import Required Libraries"
   ]
  },
  {
   "cell_type": "code",
   "execution_count": 1,
   "id": "20ad1910",
   "metadata": {},
   "outputs": [
    {
     "name": "stdout",
     "output_type": "stream",
     "text": [
      "✅ Libraries imported successfully\n"
     ]
    }
   ],
   "source": [
    "import os\n",
    "from googleapiclient.discovery import build\n",
    "from googleapiclient.errors import HttpError\n",
    "from dotenv import load_dotenv\n",
    "import json\n",
    "from datetime import datetime\n",
    "\n",
    "# Load environment variables\n",
    "load_dotenv()\n",
    "\n",
    "print(\"✅ Libraries imported successfully\")"
   ]
  },
  {
   "cell_type": "markdown",
   "id": "5ac9837a",
   "metadata": {},
   "source": [
    "## 3. Set Up API Key\n",
    "\n",
    "Add your YouTube API key to a `.env` file in the backend directory:\n",
    "```\n",
    "YOUTUBE_API_KEY=your_api_key_here\n",
    "```"
   ]
  },
  {
   "cell_type": "code",
   "execution_count": 2,
   "id": "28271721",
   "metadata": {},
   "outputs": [
    {
     "name": "stdout",
     "output_type": "stream",
     "text": [
      "✅ API key loaded successfully\n",
      "API Key: AIzaSyBr5M...\n"
     ]
    }
   ],
   "source": [
    "# Get API key from environment variable\n",
    "YOUTUBE_API_KEY = os.getenv('YOUTUBE_API_KEY')\n",
    "\n",
    "if not YOUTUBE_API_KEY:\n",
    "    print(\"⚠️ WARNING: YOUTUBE_API_KEY not found in environment variables\")\n",
    "    print(\"Please add YOUTUBE_API_KEY to your .env file\")\n",
    "    # For testing, you can set it directly here (not recommended for production)\n",
    "    # YOUTUBE_API_KEY = \"your_api_key_here\"\n",
    "else:\n",
    "    print(\"✅ API key loaded successfully\")\n",
    "    print(f\"API Key: {YOUTUBE_API_KEY[:10]}...\")"
   ]
  },
  {
   "cell_type": "markdown",
   "id": "c24f4cdb",
   "metadata": {},
   "source": [
    "## 4. Initialize YouTube API Client"
   ]
  },
  {
   "cell_type": "code",
   "execution_count": 3,
   "id": "af04bd43",
   "metadata": {},
   "outputs": [
    {
     "name": "stdout",
     "output_type": "stream",
     "text": [
      "✅ YouTube API client initialized\n"
     ]
    }
   ],
   "source": [
    "# Build the YouTube API client\n",
    "youtube = build('youtube', 'v3', developerKey=YOUTUBE_API_KEY)\n",
    "print(\"✅ YouTube API client initialized\")"
   ]
  },
  {
   "cell_type": "markdown",
   "id": "1cc35a29",
   "metadata": {},
   "source": [
    "## 5. Helper Function to Extract Video ID from URL"
   ]
  },
  {
   "cell_type": "code",
   "execution_count": 4,
   "id": "3a4d03fd",
   "metadata": {},
   "outputs": [
    {
     "name": "stdout",
     "output_type": "stream",
     "text": [
      "Testing video ID extraction:\n",
      "  https://www.youtube.com/watch?v=dQw4w9WgXcQ → dQw4w9WgXcQ\n",
      "  https://youtu.be/dQw4w9WgXcQ → dQw4w9WgXcQ\n",
      "  dQw4w9WgXcQ → dQw4w9WgXcQ\n"
     ]
    }
   ],
   "source": [
    "def extract_video_id(url_or_id):\n",
    "    \"\"\"\n",
    "    Extract video ID from YouTube URL or return the ID if already provided.\n",
    "    \n",
    "    Supports formats:\n",
    "    - https://www.youtube.com/watch?v=VIDEO_ID\n",
    "    - https://youtu.be/VIDEO_ID\n",
    "    - VIDEO_ID (direct ID)\n",
    "    \"\"\"\n",
    "    if 'youtube.com/watch?v=' in url_or_id:\n",
    "        return url_or_id.split('watch?v=')[1].split('&')[0]\n",
    "    elif 'youtu.be/' in url_or_id:\n",
    "        return url_or_id.split('youtu.be/')[1].split('?')[0]\n",
    "    else:\n",
    "        # Assume it's already a video ID\n",
    "        return url_or_id\n",
    "\n",
    "# Test the function\n",
    "test_urls = [\n",
    "    'https://www.youtube.com/watch?v=dQw4w9WgXcQ',\n",
    "    'https://youtu.be/dQw4w9WgXcQ',\n",
    "    'dQw4w9WgXcQ'\n",
    "]\n",
    "\n",
    "print(\"Testing video ID extraction:\")\n",
    "for url in test_urls:\n",
    "    video_id = extract_video_id(url)\n",
    "    print(f\"  {url} → {video_id}\")"
   ]
  },
  {
   "cell_type": "markdown",
   "id": "e6406212",
   "metadata": {},
   "source": [
    "## 6. Function to Get Video Data"
   ]
  },
  {
   "cell_type": "code",
   "execution_count": 5,
   "id": "d8e05809",
   "metadata": {},
   "outputs": [
    {
     "name": "stdout",
     "output_type": "stream",
     "text": [
      "✅ get_video_data() function defined\n"
     ]
    }
   ],
   "source": [
    "def get_video_data(video_id):\n",
    "    \"\"\"\n",
    "    Fetch comprehensive data for a YouTube video.\n",
    "    \n",
    "    Args:\n",
    "        video_id (str): YouTube video ID\n",
    "        \n",
    "    Returns:\n",
    "        dict: Video data including title, description, statistics, etc.\n",
    "    \"\"\"\n",
    "    try:\n",
    "        # Request video data\n",
    "        request = youtube.videos().list(\n",
    "            part='snippet,contentDetails,statistics,status',\n",
    "            id=video_id\n",
    "        )\n",
    "        response = request.execute()\n",
    "        \n",
    "        if not response['items']:\n",
    "            return {'error': 'Video not found'}\n",
    "        \n",
    "        return response\n",
    "        \n",
    "        video = response['items'][0]\n",
    "        \n",
    "        # Extract relevant information\n",
    "        video_data = {\n",
    "            'video_id': video_id,\n",
    "            'title': video['snippet']['title'],\n",
    "            'description': video['snippet']['description'],\n",
    "            'channel_title': video['snippet']['channelTitle'],\n",
    "            'channel_id': video['snippet']['channelId'],\n",
    "            'published_at': video['snippet']['publishedAt'],\n",
    "            'thumbnail_url': video['snippet']['thumbnails']['high']['url'],\n",
    "            'duration': video['contentDetails']['duration'],\n",
    "            'view_count': video['statistics'].get('viewCount', 0),\n",
    "            'like_count': video['statistics'].get('likeCount', 0),\n",
    "            'comment_count': video['statistics'].get('commentCount', 0),\n",
    "            'tags': video['snippet'].get('tags', []),\n",
    "            'category_id': video['snippet']['categoryId'],\n",
    "            'default_language': video['snippet'].get('defaultLanguage', 'N/A'),\n",
    "        }\n",
    "        \n",
    "        return video_data\n",
    "        \n",
    "    except HttpError as e:\n",
    "        return {'error': f'HTTP Error: {e.resp.status} - {e.content}'}\n",
    "    except Exception as e:\n",
    "        return {'error': f'Error: {str(e)}'}\n",
    "\n",
    "print(\"✅ get_video_data() function defined\")"
   ]
  },
  {
   "cell_type": "markdown",
   "id": "7b243f2e",
   "metadata": {},
   "source": [
    "## 7. Get Data for a Specific Video\n",
    "\n",
    "Replace the URL below with any YouTube video URL you want to analyze."
   ]
  },
  {
   "cell_type": "code",
   "execution_count": 6,
   "id": "7d8ab76b",
   "metadata": {},
   "outputs": [
    {
     "name": "stdout",
     "output_type": "stream",
     "text": [
      "🎬 Video ID: dQw4w9WgXcQ\n",
      "\n"
     ]
    },
    {
     "data": {
      "text/plain": [
       "{'kind': 'youtube#videoListResponse',\n",
       " 'etag': 'SWl9MXAwiDch0AUZVyEox9h1s7E',\n",
       " 'items': [{'kind': 'youtube#video',\n",
       "   'etag': '69pihEvHGLXBHela9eq-UxFZTtA',\n",
       "   'id': 'dQw4w9WgXcQ',\n",
       "   'snippet': {'publishedAt': '2009-10-25T06:57:33Z',\n",
       "    'channelId': 'UCuAXFkgsw1L7xaCfnd5JJOw',\n",
       "    'title': 'Rick Astley - Never Gonna Give You Up (Official Video) (4K Remaster)',\n",
       "    'description': 'The official video for “Never Gonna Give You Up” by Rick Astley. \\n\\nNever: The Autobiography 📚 OUT NOW! \\nFollow this link to get your copy and listen to Rick’s ‘Never’ playlist ❤️ #RickAstleyNever\\nhttps://linktr.ee/rickastleynever\\n\\n“Never Gonna Give You Up” was a global smash on its release in July 1987, topping the charts in 25 countries including Rick’s native UK and the US Billboard Hot 100.  It also won the Brit Award for Best single in 1988. Stock Aitken and Waterman wrote and produced the track which was the lead-off single and lead track from Rick’s debut LP “Whenever You Need Somebody”.  The album was itself a UK number one and would go on to sell over 15 million copies worldwide.\\n\\nThe legendary video was directed by Simon West – who later went on to make Hollywood blockbusters such as Con Air, Lara Croft – Tomb Raider and The Expendables 2.  The video passed the 1bn YouTube views milestone on 28 July 2021.\\n\\nSubscribe to the official Rick Astley YouTube channel: https://RickAstley.lnk.to/YTSubID\\n\\nFollow Rick Astley:\\nFacebook: https://RickAstley.lnk.to/FBFollowID \\nTwitter: https://RickAstley.lnk.to/TwitterID \\nInstagram: https://RickAstley.lnk.to/InstagramID \\nWebsite: https://RickAstley.lnk.to/storeID \\nTikTok: https://RickAstley.lnk.to/TikTokID\\n\\nListen to Rick Astley:\\nSpotify: https://RickAstley.lnk.to/SpotifyID \\nApple Music: https://RickAstley.lnk.to/AppleMusicID \\nAmazon Music: https://RickAstley.lnk.to/AmazonMusicID \\nDeezer: https://RickAstley.lnk.to/DeezerID \\n\\nLyrics:\\nWe’re no strangers to love\\nYou know the rules and so do I\\nA full commitment’s what I’m thinking of\\nYou wouldn’t get this from any other guy\\n\\nI just wanna tell you how I’m feeling\\nGotta make you understand\\n\\nNever gonna give you up\\nNever gonna let you down\\nNever gonna run around and desert you\\nNever gonna make you cry\\nNever gonna say goodbye\\nNever gonna tell a lie and hurt you\\n\\nWe’ve known each other for so long\\nYour heart’s been aching but you’re too shy to say it\\nInside we both know what’s been going on\\nWe know the game and we’re gonna play it\\n\\nAnd if you ask me how I’m feeling\\nDon’t tell me you’re too blind to see\\n\\nNever gonna give you up\\nNever gonna let you down\\nNever gonna run around and desert you\\nNever gonna make you cry\\nNever gonna say goodbye\\nNever gonna tell a lie and hurt you\\n\\n#RickAstley #NeverGonnaGiveYouUp #WheneverYouNeedSomebody #OfficialMusicVideo',\n",
       "    'thumbnails': {'default': {'url': 'https://i.ytimg.com/vi/dQw4w9WgXcQ/default.jpg',\n",
       "      'width': 120,\n",
       "      'height': 90},\n",
       "     'medium': {'url': 'https://i.ytimg.com/vi/dQw4w9WgXcQ/mqdefault.jpg',\n",
       "      'width': 320,\n",
       "      'height': 180},\n",
       "     'high': {'url': 'https://i.ytimg.com/vi/dQw4w9WgXcQ/hqdefault.jpg',\n",
       "      'width': 480,\n",
       "      'height': 360},\n",
       "     'standard': {'url': 'https://i.ytimg.com/vi/dQw4w9WgXcQ/sddefault.jpg',\n",
       "      'width': 640,\n",
       "      'height': 480},\n",
       "     'maxres': {'url': 'https://i.ytimg.com/vi/dQw4w9WgXcQ/maxresdefault.jpg',\n",
       "      'width': 1280,\n",
       "      'height': 720}},\n",
       "    'channelTitle': 'Rick Astley',\n",
       "    'tags': ['rick astley',\n",
       "     'Never Gonna Give You Up',\n",
       "     'nggyu',\n",
       "     'never gonna give you up lyrics',\n",
       "     'rick rolled',\n",
       "     'Rick Roll',\n",
       "     'rick astley official',\n",
       "     'rickrolled',\n",
       "     'Fortnite song',\n",
       "     'Fortnite event',\n",
       "     'Fortnite dance',\n",
       "     'fortnite never gonna give you up',\n",
       "     'rick roll',\n",
       "     'rickrolling',\n",
       "     'rick rolling',\n",
       "     'never gonna give you up',\n",
       "     '80s music',\n",
       "     'rick astley new',\n",
       "     'animated video',\n",
       "     'rickroll',\n",
       "     'meme songs',\n",
       "     'never gonna give u up lyrics',\n",
       "     'Rick Astley 2022',\n",
       "     'never gonna let you down',\n",
       "     'animated',\n",
       "     'rick rolls 2022',\n",
       "     'never gonna give you up karaoke'],\n",
       "    'categoryId': '10',\n",
       "    'liveBroadcastContent': 'none',\n",
       "    'defaultLanguage': 'en',\n",
       "    'localized': {'title': 'Rick Astley - Never Gonna Give You Up (Official Video) (4K Remaster)',\n",
       "     'description': 'The official video for “Never Gonna Give You Up” by Rick Astley. \\n\\nNever: The Autobiography 📚 OUT NOW! \\nFollow this link to get your copy and listen to Rick’s ‘Never’ playlist ❤️ #RickAstleyNever\\nhttps://linktr.ee/rickastleynever\\n\\n“Never Gonna Give You Up” was a global smash on its release in July 1987, topping the charts in 25 countries including Rick’s native UK and the US Billboard Hot 100.  It also won the Brit Award for Best single in 1988. Stock Aitken and Waterman wrote and produced the track which was the lead-off single and lead track from Rick’s debut LP “Whenever You Need Somebody”.  The album was itself a UK number one and would go on to sell over 15 million copies worldwide.\\n\\nThe legendary video was directed by Simon West – who later went on to make Hollywood blockbusters such as Con Air, Lara Croft – Tomb Raider and The Expendables 2.  The video passed the 1bn YouTube views milestone on 28 July 2021.\\n\\nSubscribe to the official Rick Astley YouTube channel: https://RickAstley.lnk.to/YTSubID\\n\\nFollow Rick Astley:\\nFacebook: https://RickAstley.lnk.to/FBFollowID \\nTwitter: https://RickAstley.lnk.to/TwitterID \\nInstagram: https://RickAstley.lnk.to/InstagramID \\nWebsite: https://RickAstley.lnk.to/storeID \\nTikTok: https://RickAstley.lnk.to/TikTokID\\n\\nListen to Rick Astley:\\nSpotify: https://RickAstley.lnk.to/SpotifyID \\nApple Music: https://RickAstley.lnk.to/AppleMusicID \\nAmazon Music: https://RickAstley.lnk.to/AmazonMusicID \\nDeezer: https://RickAstley.lnk.to/DeezerID \\n\\nLyrics:\\nWe’re no strangers to love\\nYou know the rules and so do I\\nA full commitment’s what I’m thinking of\\nYou wouldn’t get this from any other guy\\n\\nI just wanna tell you how I’m feeling\\nGotta make you understand\\n\\nNever gonna give you up\\nNever gonna let you down\\nNever gonna run around and desert you\\nNever gonna make you cry\\nNever gonna say goodbye\\nNever gonna tell a lie and hurt you\\n\\nWe’ve known each other for so long\\nYour heart’s been aching but you’re too shy to say it\\nInside we both know what’s been going on\\nWe know the game and we’re gonna play it\\n\\nAnd if you ask me how I’m feeling\\nDon’t tell me you’re too blind to see\\n\\nNever gonna give you up\\nNever gonna let you down\\nNever gonna run around and desert you\\nNever gonna make you cry\\nNever gonna say goodbye\\nNever gonna tell a lie and hurt you\\n\\n#RickAstley #NeverGonnaGiveYouUp #WheneverYouNeedSomebody #OfficialMusicVideo'},\n",
       "    'defaultAudioLanguage': 'en'},\n",
       "   'contentDetails': {'duration': 'PT3M34S',\n",
       "    'dimension': '2d',\n",
       "    'definition': 'hd',\n",
       "    'caption': 'true',\n",
       "    'licensedContent': True,\n",
       "    'contentRating': {},\n",
       "    'projection': 'rectangular'},\n",
       "   'status': {'uploadStatus': 'processed',\n",
       "    'privacyStatus': 'public',\n",
       "    'license': 'youtube',\n",
       "    'embeddable': True,\n",
       "    'publicStatsViewable': True,\n",
       "    'madeForKids': False},\n",
       "   'statistics': {'viewCount': '1701474331',\n",
       "    'likeCount': '18579779',\n",
       "    'favoriteCount': '0',\n",
       "    'commentCount': '2405276'}}],\n",
       " 'pageInfo': {'totalResults': 1, 'resultsPerPage': 1}}"
      ]
     },
     "execution_count": 6,
     "metadata": {},
     "output_type": "execute_result"
    }
   ],
   "source": [
    "# Example: Get data for a YouTube video\n",
    "# Replace this with your desired video URL\n",
    "video_url = 'https://www.youtube.com/watch?v=dQw4w9WgXcQ'\n",
    "\n",
    "# Extract video ID\n",
    "video_id = extract_video_id(video_url)\n",
    "print(f\"🎬 Video ID: {video_id}\\n\")\n",
    "\n",
    "# Fetch video data\n",
    "video_data = get_video_data(video_id)\n",
    "\n",
    "# # Check for errors\n",
    "# if 'error' in video_data:\n",
    "#     print(f\"❌ Error: {video_data['error']}\")\n",
    "# else:\n",
    "#     print(\"✅ Video data retrieved successfully!\\n\")\n",
    "#     print(f\"📺 Title: {video_data['title']}\")\n",
    "#     print(f\"👤 Channel: {video_data['channel_title']}\")\n",
    "#     print(f\"📅 Published: {video_data['published_at']}\")\n",
    "#     print(f\"⏱️ Duration: {video_data['duration']}\")\n",
    "#     print(f\"👁️ Views: {video_data['view_count']:,}\")\n",
    "#     print(f\"👍 Likes: {video_data['like_count']:,}\")\n",
    "#     print(f\"💬 Comments: {video_data['comment_count']:,}\")\n",
    "\n",
    "video_data"
   ]
  },
  {
   "cell_type": "code",
   "execution_count": 8,
   "id": "5d44a0b3",
   "metadata": {},
   "outputs": [
    {
     "name": "stdout",
     "output_type": "stream",
     "text": [
      "kind\n",
      "etag\n",
      "id\n",
      "snippet\n",
      "snippet.publishedAt\n",
      "snippet.channelId\n",
      "snippet.title\n",
      "snippet.description\n",
      "snippet.thumbnails\n",
      "snippet.thumbnails.default\n",
      "snippet.thumbnails.default.url\n",
      "snippet.thumbnails.default.width\n",
      "snippet.thumbnails.default.height\n",
      "snippet.thumbnails.medium\n",
      "snippet.thumbnails.medium.url\n",
      "snippet.thumbnails.medium.width\n",
      "snippet.thumbnails.medium.height\n",
      "snippet.thumbnails.high\n",
      "snippet.thumbnails.high.url\n",
      "snippet.thumbnails.high.width\n",
      "snippet.thumbnails.high.height\n",
      "snippet.thumbnails.standard\n",
      "snippet.thumbnails.standard.url\n",
      "snippet.thumbnails.standard.width\n",
      "snippet.thumbnails.standard.height\n",
      "snippet.thumbnails.maxres\n",
      "snippet.thumbnails.maxres.url\n",
      "snippet.thumbnails.maxres.width\n",
      "snippet.thumbnails.maxres.height\n",
      "snippet.channelTitle\n",
      "snippet.tags\n",
      "snippet.categoryId\n",
      "snippet.liveBroadcastContent\n",
      "snippet.defaultLanguage\n",
      "snippet.localized\n",
      "snippet.localized.title\n",
      "snippet.localized.description\n",
      "snippet.defaultAudioLanguage\n",
      "contentDetails\n",
      "contentDetails.duration\n",
      "contentDetails.dimension\n",
      "contentDetails.definition\n",
      "contentDetails.caption\n",
      "contentDetails.licensedContent\n",
      "contentDetails.contentRating\n",
      "contentDetails.projection\n",
      "status\n",
      "status.uploadStatus\n",
      "status.privacyStatus\n",
      "status.license\n",
      "status.embeddable\n",
      "status.publicStatsViewable\n",
      "status.madeForKids\n",
      "statistics\n",
      "statistics.viewCount\n",
      "statistics.likeCount\n",
      "statistics.favoriteCount\n",
      "statistics.commentCount\n"
     ]
    }
   ],
   "source": [
    "def print_keys(d, parent_key=''):\n",
    "    for key, value in d.items():\n",
    "        full_key = f\"{parent_key}.{key}\" if parent_key else key\n",
    "        print(full_key)\n",
    "        if isinstance(value, dict):\n",
    "            print_keys(value, full_key)\n",
    "\n",
    "print_keys(video_data['items'][0])"
   ]
  },
  {
   "cell_type": "code",
   "execution_count": 9,
   "id": "ba63ded9",
   "metadata": {},
   "outputs": [],
   "source": [
    "import json\n",
    "# save as json file\n",
    "with open(f'youtube_video_{video_id}.json', 'w', encoding='utf-8') as f:\n",
    "    json.dump(video_data['items'][0], f, ensure_ascii=False, indent=4)"
   ]
  },
  {
   "cell_type": "markdown",
   "id": "ebecb26e",
   "metadata": {},
   "source": [
    "## 8. Display Full Video Data (JSON Format)"
   ]
  },
  {
   "cell_type": "code",
   "execution_count": null,
   "id": "1eca059b",
   "metadata": {},
   "outputs": [],
   "source": [
    "# Display the complete video data in JSON format\n",
    "if 'error' not in video_data:\n",
    "    print(json.dumps(video_data, indent=2))"
   ]
  },
  {
   "cell_type": "markdown",
   "id": "90ce82b7",
   "metadata": {},
   "source": [
    "## 9. Display Video Description"
   ]
  },
  {
   "cell_type": "code",
   "execution_count": null,
   "id": "0f4e843f",
   "metadata": {},
   "outputs": [],
   "source": [
    "# Display the video description\n",
    "if 'error' not in video_data:\n",
    "    print(\"📝 Video Description:\")\n",
    "    print(\"=\" * 80)\n",
    "    print(video_data['description'])\n",
    "    print(\"=\" * 80)"
   ]
  },
  {
   "cell_type": "markdown",
   "id": "6fea3175",
   "metadata": {},
   "source": [
    "## 10. Additional Function: Get Video Transcript/Captions\n",
    "\n",
    "To get video transcripts, you'll need the `youtube-transcript-api` package."
   ]
  },
  {
   "cell_type": "code",
   "execution_count": null,
   "id": "07289459",
   "metadata": {},
   "outputs": [],
   "source": [
    "# Install youtube-transcript-api\n",
    "!pip install youtube-transcript-api"
   ]
  },
  {
   "cell_type": "code",
   "execution_count": null,
   "id": "1aaa83b3",
   "metadata": {},
   "outputs": [],
   "source": [
    "from youtube_transcript_api import YouTubeTranscriptApi\n",
    "from youtube_transcript_api._errors import TranscriptsDisabled, NoTranscriptFound\n",
    "\n",
    "def get_video_transcript(video_id, languages=['en']):\n",
    "    \"\"\"\n",
    "    Get the transcript/captions for a YouTube video.\n",
    "    \n",
    "    Args:\n",
    "        video_id (str): YouTube video ID\n",
    "        languages (list): List of language codes to try (default: ['en'])\n",
    "        \n",
    "    Returns:\n",
    "        list: Transcript data with timestamps\n",
    "    \"\"\"\n",
    "    try:\n",
    "        transcript = YouTubeTranscriptApi.get_transcript(video_id, languages=languages)\n",
    "        return transcript\n",
    "    except TranscriptsDisabled:\n",
    "        return {'error': 'Transcripts are disabled for this video'}\n",
    "    except NoTranscriptFound:\n",
    "        return {'error': f'No transcript found in languages: {languages}'}\n",
    "    except Exception as e:\n",
    "        return {'error': f'Error: {str(e)}'}\n",
    "\n",
    "print(\"✅ get_video_transcript() function defined\")"
   ]
  },
  {
   "cell_type": "markdown",
   "id": "8952aad7",
   "metadata": {},
   "source": [
    "## 11. Get Transcript for the Video"
   ]
  },
  {
   "cell_type": "code",
   "execution_count": null,
   "id": "96efe575",
   "metadata": {},
   "outputs": [],
   "source": [
    "# Get transcript for the video\n",
    "transcript = get_video_transcript(video_id)\n",
    "\n",
    "if isinstance(transcript, dict) and 'error' in transcript:\n",
    "    print(f\"❌ {transcript['error']}\")\n",
    "else:\n",
    "    print(f\"✅ Transcript retrieved! ({len(transcript)} segments)\\n\")\n",
    "    print(\"First 5 segments:\")\n",
    "    print(\"=\" * 80)\n",
    "    for i, segment in enumerate(transcript[:5]):\n",
    "        timestamp = segment['start']\n",
    "        text = segment['text']\n",
    "        print(f\"[{timestamp:.2f}s] {text}\")\n",
    "    print(\"=\" * 80)"
   ]
  },
  {
   "cell_type": "markdown",
   "id": "6a5e1934",
   "metadata": {},
   "source": [
    "## 12. Convert Transcript to Full Text"
   ]
  },
  {
   "cell_type": "code",
   "execution_count": null,
   "id": "07a262fa",
   "metadata": {},
   "outputs": [],
   "source": [
    "# Combine all transcript segments into a single text\n",
    "if isinstance(transcript, list):\n",
    "    full_text = ' '.join([segment['text'] for segment in transcript])\n",
    "    \n",
    "    print(\"📄 Full Transcript:\")\n",
    "    print(\"=\" * 80)\n",
    "    print(full_text)\n",
    "    print(\"=\" * 80)\n",
    "    print(f\"\\nTotal characters: {len(full_text)}\")\n",
    "    print(f\"Total words: {len(full_text.split())}\")"
   ]
  },
  {
   "cell_type": "markdown",
   "id": "837239b3",
   "metadata": {},
   "source": [
    "## 13. Save Video Data and Transcript to File"
   ]
  },
  {
   "cell_type": "code",
   "execution_count": null,
   "id": "e4ae4caa",
   "metadata": {},
   "outputs": [],
   "source": [
    "import json\n",
    "\n",
    "def save_video_data(video_data, transcript, output_dir='output'):\n",
    "    \"\"\"\n",
    "    Save video data and transcript to JSON files.\n",
    "    \"\"\"\n",
    "    # Create output directory if it doesn't exist\n",
    "    os.makedirs(output_dir, exist_ok=True)\n",
    "    \n",
    "    video_id = video_data['video_id']\n",
    "    \n",
    "    # Save video metadata\n",
    "    metadata_path = os.path.join(output_dir, f'{video_id}_metadata.json')\n",
    "    with open(metadata_path, 'w', encoding='utf-8') as f:\n",
    "        json.dump(video_data, f, indent=2, ensure_ascii=False)\n",
    "    print(f\"✅ Metadata saved to: {metadata_path}\")\n",
    "    \n",
    "    # Save transcript if available\n",
    "    if isinstance(transcript, list):\n",
    "        transcript_path = os.path.join(output_dir, f'{video_id}_transcript.json')\n",
    "        with open(transcript_path, 'w', encoding='utf-8') as f:\n",
    "            json.dump(transcript, f, indent=2, ensure_ascii=False)\n",
    "        print(f\"✅ Transcript saved to: {transcript_path}\")\n",
    "        \n",
    "        # Save full text version\n",
    "        text_path = os.path.join(output_dir, f'{video_id}_transcript.txt')\n",
    "        full_text = ' '.join([segment['text'] for segment in transcript])\n",
    "        with open(text_path, 'w', encoding='utf-8') as f:\n",
    "            f.write(full_text)\n",
    "        print(f\"✅ Full transcript text saved to: {text_path}\")\n",
    "\n",
    "# Save the data\n",
    "if 'error' not in video_data:\n",
    "    save_video_data(video_data, transcript)"
   ]
  },
  {
   "cell_type": "markdown",
   "id": "40af0ef3",
   "metadata": {},
   "source": [
    "## Summary\n",
    "\n",
    "This notebook demonstrates:\n",
    "1. ✅ Setting up YouTube Data API v3\n",
    "2. ✅ Extracting video IDs from URLs\n",
    "3. ✅ Fetching video metadata (title, description, statistics)\n",
    "4. ✅ Getting video transcripts/captions\n",
    "5. ✅ Saving data to files\n",
    "\n",
    "### Next Steps:\n",
    "- Integrate this with your notes database\n",
    "- Build a web interface to input video URLs\n",
    "- Add automatic note generation from transcripts\n",
    "- Implement video search functionality"
   ]
  }
 ],
 "metadata": {
  "kernelspec": {
   "display_name": "Python 3",
   "language": "python",
   "name": "python3"
  },
  "language_info": {
   "codemirror_mode": {
    "name": "ipython",
    "version": 3
   },
   "file_extension": ".py",
   "mimetype": "text/x-python",
   "name": "python",
   "nbconvert_exporter": "python",
   "pygments_lexer": "ipython3",
   "version": "3.13.2"
  }
 },
 "nbformat": 4,
 "nbformat_minor": 5
}
